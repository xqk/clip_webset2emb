{
 "cells": [
  {
   "cell_type": "code",
   "execution_count": null,
   "metadata": {
    "collapsed": true
   },
   "outputs": [],
   "source": [
    "import torch\n",
    "from core.dataset import Dataset\n",
    "import os\n",
    "\n",
    "device = \"cuda\" if torch.cuda.is_available() else \"cpu\"\n",
    "dataset_name = \"zhukeai_medias\"\n",
    "dataset_dir = \"dataset\"\n",
    "clip_cache_path = './'\n",
    "clip_model = \"cn_clip:ViT-H-14\"\n",
    "dataset = Dataset(\n",
    "     dataset_name,\n",
    "     dataset_dir,\n",
    "     clip_model,\n",
    "     clip_cache_path,\n",
    "     image_size=336,\n",
    "     output_format=\"webdataset\",\n",
    ")"
   ]
  }
 ],
 "metadata": {
  "kernelspec": {
   "display_name": "Python 3",
   "language": "python",
   "name": "python3"
  },
  "language_info": {
   "codemirror_mode": {
    "name": "ipython",
    "version": 2
   },
   "file_extension": ".py",
   "mimetype": "text/x-python",
   "name": "python",
   "nbconvert_exporter": "python",
   "pygments_lexer": "ipython2",
   "version": "2.7.6"
  }
 },
 "nbformat": 4,
 "nbformat_minor": 0
}
