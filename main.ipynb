{
 "cells": [
  {
   "cell_type": "markdown",
   "source": [
    "# 提取图片特征\n",
    "\n",
    "- GPU模式：点击菜单\"修改\"-\"笔记本设置\"-\"GPU\" 点击保存"
   ],
   "metadata": {
    "collapsed": false
   }
  },
  {
   "cell_type": "markdown",
   "source": [
    "## 安装包"
   ],
   "metadata": {
    "collapsed": false
   }
  },
  {
   "cell_type": "code",
   "execution_count": null,
   "outputs": [],
   "source": [
    "!pip install clip-inference"
   ],
   "metadata": {
    "collapsed": false
   }
  },
  {
   "cell_type": "markdown",
   "source": [
    "## 加载google drive"
   ],
   "metadata": {
    "collapsed": false
   }
  },
  {
   "cell_type": "code",
   "execution_count": null,
   "outputs": [],
   "source": [
    "from google.colab import drive\n",
    "drive.mount('/content/drive')"
   ],
   "metadata": {
    "collapsed": false
   }
  },
  {
   "cell_type": "markdown",
   "source": [
    "## 初始化数据集"
   ],
   "metadata": {
    "collapsed": false
   }
  },
  {
   "cell_type": "code",
   "execution_count": null,
   "outputs": [],
   "source": [
    "import time\n",
    "import torch\n",
    "from clip_inference.dataset import Dataset\n",
    "import os\n",
    "\n",
    "device = \"cuda\" if torch.cuda.is_available() else \"cpu\"\n",
    "dataset_name = \"zhukeai_medias\"\n",
    "dataset_dir = \"dataset\"\n",
    "clip_cache_path = '/content/drive/MyDrive/colab/model/'\n",
    "clip_model = \"cn_clip:ViT-H-14\"\n",
    "if not os.path.exists(clip_cache_path):\n",
    "  os.makedirs(clip_cache_path)\n",
    "\n",
    "dataset = Dataset(\n",
    "     dataset_name,\n",
    "     dataset_dir,\n",
    "     clip_model,\n",
    "     clip_cache_path,\n",
    "     image_size=336,\n",
    "     output_format=\"webdataset\",\n",
    ")"
   ],
   "metadata": {
    "collapsed": false
   }
  },
  {
   "cell_type": "markdown",
   "source": [
    "## 开始提取特征"
   ],
   "metadata": {
    "collapsed": false
   }
  },
  {
   "cell_type": "code",
   "execution_count": null,
   "outputs": [],
   "source": [
    "webdataset_dir = \"/content/drive/MyDrive/colab/zhukeai_medias/images\"\n",
    "embeddings_folder = \"/content/drive/MyDrive/colab/zhukeai_medias/embeddings\"\n",
    "for d in [webdataset_dir, embeddings_folder]:\n",
    "  if not os.path.exists(d):\n",
    "      os.makedirs(d)\n",
    "\n",
    "# ！！需要修改\n",
    "start_num = 31  # 起始文件编号\n",
    "end_num = 160  # 结束文件编号\n",
    "\n",
    "input_files = [f\"{webdataset_dir}/{str(x).zfill(5)}.tar\"  for x in list(range(start_num, end_num + 1)) if os.path.exists(f\"{webdataset_dir}/{str(x).zfill(5)}.tar\")]\n",
    "\n",
    "batch_size = 512\n",
    "start = time.time()\n",
    "dataset.webdataset2inference_by_files(input_files, embeddings_folder, batch_size)\n",
    "print(\"耗时（秒）:\", time.time() - start)"
   ],
   "metadata": {
    "collapsed": false
   }
  }
 ],
 "metadata": {
  "kernelspec": {
   "display_name": "Python 3",
   "language": "python",
   "name": "python3"
  },
  "language_info": {
   "codemirror_mode": {
    "name": "ipython",
    "version": 2
   },
   "file_extension": ".py",
   "mimetype": "text/x-python",
   "name": "python",
   "nbconvert_exporter": "python",
   "pygments_lexer": "ipython2",
   "version": "2.7.6"
  }
 },
 "nbformat": 4,
 "nbformat_minor": 0
}
